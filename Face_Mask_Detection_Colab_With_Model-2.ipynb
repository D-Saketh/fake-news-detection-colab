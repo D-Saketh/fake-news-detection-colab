{
  "cells": [
    {
      "cell_type": "markdown",
      "id": "e5c57c79",
      "metadata": {
        "id": "e5c57c79"
      },
      "source": [
        "# 😷 Real-Time Face Mask Detection with Colab Webcam"
      ]
    },
    {
      "cell_type": "markdown",
      "id": "86886b22",
      "metadata": {
        "id": "86886b22"
      },
      "source": [
        "This notebook will download a pretrained mask detection model, capture an image from your webcam, detect faces, and classify them as Mask/No Mask. Ready to run out of the box!"
      ]
    },
    {
      "cell_type": "code",
      "execution_count": 9,
      "id": "bb5102ad",
      "metadata": {
        "colab": {
          "base_uri": "https://localhost:8080/"
        },
        "id": "bb5102ad",
        "outputId": "23792d42-e459-47b7-eefd-581333b5b5c3"
      },
      "outputs": [
        {
          "output_type": "stream",
          "name": "stderr",
          "text": [
            "[nltk_data] Downloading package stopwords to /root/nltk_data...\n",
            "[nltk_data]   Unzipping corpora/stopwords.zip.\n"
          ]
        },
        {
          "output_type": "stream",
          "name": "stdout",
          "text": [
            "Accuracy: 0.5\n",
            "\n",
            "Confusion Matrix:\n",
            " [[3 0]\n",
            " [4 1]]\n",
            "\n",
            "Classification Report:\n",
            "               precision    recall  f1-score   support\n",
            "\n",
            "           0       0.43      1.00      0.60         3\n",
            "           1       1.00      0.20      0.33         5\n",
            "\n",
            "    accuracy                           0.50         8\n",
            "   macro avg       0.71      0.60      0.47         8\n",
            "weighted avg       0.79      0.50      0.43         8\n",
            "\n",
            "\n",
            "Example prediction:\n",
            "Input: The president announced a new health policy today.\n",
            "Prediction: Fake\n"
          ]
        }
      ],
      "source": [
        "# ===================================\n",
        "# Fake News Detection System in Colab\n",
        "# ===================================\n",
        "\n",
        "# 1) Install required NLTK resources\n",
        "import nltk\n",
        "nltk.download(\"stopwords\", force=True)\n",
        "\n",
        "# 2) Imports\n",
        "import pandas as pd\n",
        "import numpy as np\n",
        "import string\n",
        "from nltk.corpus import stopwords\n",
        "from sklearn.model_selection import train_test_split\n",
        "from sklearn.feature_extraction.text import TfidfVectorizer\n",
        "from sklearn.linear_model import LogisticRegression\n",
        "from sklearn.metrics import accuracy_score, confusion_matrix, classification_report\n",
        "\n",
        "# 3) Load datasets\n",
        "true_df = pd.read_csv(\"/content/FakeNews_True.csv\")\n",
        "fake_df = pd.read_csv(\"/content/FakeNews_Fake.csv\")\n",
        "\n",
        "# 4) Add labels: 1=real, 0=fake\n",
        "true_df[\"label\"] = 1\n",
        "fake_df[\"label\"] = 0\n",
        "\n",
        "# 5) Combine datasets & shuffle\n",
        "df = pd.concat([true_df, fake_df], ignore_index=True)\n",
        "df = df.sample(frac=1, random_state=42).reset_index(drop=True)\n",
        "\n",
        "# 6) Preprocessing function WITHOUT nltk.word_tokenize()\n",
        "def clean_text(text):\n",
        "    # Lowercase & split\n",
        "    tokens = text.lower().split()\n",
        "    # Remove punctuation and keep only alphabetic words\n",
        "    tokens = [word.strip(string.punctuation) for word in tokens if word.isalpha() or word.isalnum()]\n",
        "    # Remove stopwords\n",
        "    tokens = [word for word in tokens if word not in stopwords.words(\"english\")]\n",
        "    return \" \".join(tokens)\n",
        "\n",
        "# 7) Apply preprocessing\n",
        "df[\"clean_text\"] = df[\"text\"].apply(clean_text)\n",
        "\n",
        "# 8) Split data\n",
        "X_train, X_test, y_train, y_test = train_test_split(\n",
        "    df[\"clean_text\"], df[\"label\"], test_size=0.2, random_state=42\n",
        ")\n",
        "\n",
        "# 9) Vectorize with TF-IDF\n",
        "vectorizer = TfidfVectorizer()\n",
        "X_train_vec = vectorizer.fit_transform(X_train)\n",
        "X_test_vec = vectorizer.transform(X_test)\n",
        "\n",
        "# 10) Train Logistic Regression model\n",
        "model = LogisticRegression()\n",
        "model.fit(X_train_vec, y_train)\n",
        "\n",
        "# 11) Evaluate on test set\n",
        "y_pred = model.predict(X_test_vec)\n",
        "print(\"Accuracy:\", accuracy_score(y_test, y_pred))\n",
        "print(\"\\nConfusion Matrix:\\n\", confusion_matrix(y_test, y_pred))\n",
        "print(\"\\nClassification Report:\\n\", classification_report(y_test, y_pred))\n",
        "\n",
        "# 12) Prediction function\n",
        "def predict_news(news_text):\n",
        "    clean = clean_text(news_text)\n",
        "    vec = vectorizer.transform([clean])\n",
        "    pred = model.predict(vec)[0]\n",
        "    return \"Real\" if pred == 1 else \"Fake\"\n",
        "\n",
        "# 13) Example prediction\n",
        "test_news = \"The president announced a new health policy today.\"\n",
        "print(\"\\nExample prediction:\")\n",
        "print(f\"Input: {test_news}\")\n",
        "print(f\"Prediction: {predict_news(test_news)}\")\n"
      ]
    }
  ],
  "metadata": {
    "colab": {
      "provenance": []
    },
    "language_info": {
      "name": "python"
    },
    "kernelspec": {
      "name": "python3",
      "display_name": "Python 3"
    }
  },
  "nbformat": 4,
  "nbformat_minor": 5
}